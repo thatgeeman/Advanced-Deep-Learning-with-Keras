{
  "nbformat": 4,
  "nbformat_minor": 0,
  "metadata": {
    "colab": {
      "name": "chapter_11.ipynb",
      "provenance": [],
      "collapsed_sections": []
    },
    "kernelspec": {
      "display_name": "Python 3",
      "language": "python",
      "name": "python3"
    },
    "language_info": {
      "codemirror_mode": {
        "name": "ipython",
        "version": 3
      },
      "file_extension": ".py",
      "mimetype": "text/x-python",
      "name": "python",
      "nbconvert_exporter": "python",
      "pygments_lexer": "ipython3",
      "version": "3.9.6"
    }
  },
  "cells": [
    {
      "cell_type": "markdown",
      "metadata": {
        "id": "zGtCt8OsMtLf"
      },
      "source": [
        "Get the prerequisites done"
      ]
    },
    {
      "cell_type": "code",
      "metadata": {
        "colab": {
          "base_uri": "https://localhost:8080/"
        },
        "id": "7vAFSKy5VfbC",
        "outputId": "b6af4390-952e-43f8-8927-89d6800ef466"
      },
      "source": [
        "!pip freeze | grep \"tensorflow\\|keras\\|pydot\""
      ],
      "execution_count": null,
      "outputs": [
        {
          "output_type": "stream",
          "text": [
            "keras-nightly==2.5.0.dev2021032900\n",
            "keras-vis==0.4.1\n",
            "pydot==1.3.0\n",
            "pydot-ng==2.0.0\n",
            "pydotplus==2.0.2\n",
            "tensorflow @ file:///tensorflow-2.5.0-cp37-cp37m-linux_x86_64.whl\n",
            "tensorflow-datasets==4.0.1\n",
            "tensorflow-estimator==2.5.0\n",
            "tensorflow-gcs-config==2.5.0\n",
            "tensorflow-hub==0.12.0\n",
            "tensorflow-metadata==1.1.0\n",
            "tensorflow-probability==0.13.0\n"
          ],
          "name": "stdout"
        }
      ]
    },
    {
      "cell_type": "code",
      "metadata": {
        "id": "cwL1KkN4MV1f"
      },
      "source": [
        "#import config\n",
        "import math\n",
        "import numpy as np\n",
        "from tensorflow.keras import backend as K\n",
        "\n",
        "def anchor_sizes(n_layers=4):\n",
        "    \"\"\"Generate linear distribution of sizes depending on \n",
        "    the number of ssd top layers\n",
        "\n",
        "    Arguments:\n",
        "        n_layers (int): Number of ssd head layers\n",
        "\n",
        "    Returns:\n",
        "        sizes (list): A list of anchor sizes\n",
        "    \"\"\"\n",
        "    s = np.linspace(0.2, 0.9, n_layers + 1)\n",
        "    sizes = []\n",
        "    for i in range(len(s) - 1):\n",
        "        # size = [s[i], (s[i] * 0.5)]\n",
        "        size = [s[i], math.sqrt(s[i] * s[i + 1])]\n",
        "        sizes.append(size)\n",
        "\n",
        "    return sizes # s[0] is scale size, s[1] is sqrt(scale*(scale+1))"
      ],
      "execution_count": null,
      "outputs": []
    },
    {
      "cell_type": "code",
      "metadata": {
        "colab": {
          "base_uri": "https://localhost:8080/"
        },
        "id": "j1vN-Cr6WQNJ",
        "outputId": "74913fd6-e1e6-4763-a4aa-07cfbb054cc4"
      },
      "source": [
        "anchor_sizes(4)"
      ],
      "execution_count": null,
      "outputs": [
        {
          "output_type": "execute_result",
          "data": {
            "text/plain": [
              "[[0.2, 0.2738612787525831],\n",
              " [0.375, 0.4541475531146238],\n",
              " [0.55, 0.6314665470157543],\n",
              " [0.7249999999999999, 0.8077747210701756]]"
            ]
          },
          "metadata": {
            "tags": []
          },
          "execution_count": 3
        }
      ]
    },
    {
      "cell_type": "code",
      "metadata": {
        "id": "j2kXo3swMdpq"
      },
      "source": [
        "def anchor_boxes(feature_shape,\n",
        "                 image_shape,\n",
        "                 index=0,\n",
        "                 n_layers=4,\n",
        "                 aspect_ratios=(1, 2, 0.5)):\n",
        "    \"\"\" Compute the anchor boxes for a given feature map.\n",
        "    Anchor boxes are in minmax format\n",
        "\n",
        "    Arguments:\n",
        "        feature_shape (list): Feature map shape\n",
        "        image_shape (list): Image size shape\n",
        "        index (int): Indicates which of ssd head layers\n",
        "            are we referring to\n",
        "        n_layers (int): Number of ssd head layers\n",
        "\n",
        "    Returns:\n",
        "        boxes (tensor): Anchor boxes per feature map\n",
        "    \"\"\"\n",
        "    \n",
        "    # anchor box sizes given an index of layer in ssd head\n",
        "    sizes = anchor_sizes(n_layers)[index]\n",
        "    # number of anchor boxes per feature map pt\n",
        "    n_boxes = len(aspect_ratios) + 1\n",
        "    # ignore number of channels (last)\n",
        "    image_height, image_width, _ = image_shape\n",
        "    # ignore number of feature maps (last)\n",
        "    feature_height, feature_width, _ = feature_shape\n",
        "\n",
        "    # normalized width and height\n",
        "    # sizes[0] is scale size, sizes[1] is sqrt(scale*(scale+1))\n",
        "    norm_height = image_height * sizes[0]\n",
        "    norm_width = image_width * sizes[0]\n",
        "\n",
        "    # list of anchor boxes (width, height)\n",
        "    width_height = []\n",
        "    # anchor box by aspect ratio on resized image dims\n",
        "    # Equation 11.2.3 \n",
        "    for ar in aspect_ratios:\n",
        "        box_width = norm_width * np.sqrt(ar)\n",
        "        box_height = norm_height / np.sqrt(ar)\n",
        "        width_height.append((box_width, box_height))\n",
        "    # multiply anchor box dim by size[1] for aspect_ratio = 1\n",
        "    # Equation 11.2.4\n",
        "    box_width = image_width * sizes[1]\n",
        "    box_height = image_height * sizes[1]\n",
        "    width_height.append((box_width, box_height))\n",
        "\n",
        "    # now an array of (width, height)\n",
        "    width_height = np.array(width_height)\n",
        "\n",
        "    # dimensions of each receptive field in pixels\n",
        "    grid_width = image_width / feature_width\n",
        "    grid_height = image_height / feature_height\n",
        "\n",
        "    # compute center of receptive field per feature pt\n",
        "    # (cx, cy) format \n",
        "    # starting at midpoint of 1st receptive field\n",
        "    start = grid_width * 0.5 \n",
        "    # ending at midpoint of last receptive field\n",
        "    end = (feature_width - 0.5) * grid_width\n",
        "    cx = np.linspace(start, end, feature_width)\n",
        "\n",
        "    start = grid_height * 0.5\n",
        "    end = (feature_height - 0.5) * grid_height\n",
        "    cy = np.linspace(start, end, feature_height)\n",
        "\n",
        "    # grid of box centers\n",
        "    cx_grid, cy_grid = np.meshgrid(cx, cy)\n",
        "\n",
        "    # for np.tile()\n",
        "    cx_grid = np.expand_dims(cx_grid, -1) \n",
        "    cy_grid = np.expand_dims(cy_grid, -1)\n",
        "\n",
        "    # tensor = (feature_map_height, feature_map_width, n_boxes, 4)\n",
        "    # aligned with image tensor (height, width, channels)\n",
        "    # last dimension = (cx, cy, w, h)\n",
        "    boxes = np.zeros((feature_height, feature_width, n_boxes, 4))\n",
        "    \n",
        "    # (cx, cy)\n",
        "    boxes[..., 0] = np.tile(cx_grid, (1, 1, n_boxes))\n",
        "    boxes[..., 1] = np.tile(cy_grid, (1, 1, n_boxes))\n",
        "\n",
        "    # (w, h)\n",
        "    boxes[..., 2] = width_height[:, 0]\n",
        "    boxes[..., 3] = width_height[:, 1]\n",
        "\n",
        "    # convert (cx, cy, w, h) to (xmin, xmax, ymin, ymax)\n",
        "    # prepend one dimension to boxes \n",
        "    # to account for the batch size = 1\n",
        "    boxes = centroid2minmax(boxes)\n",
        "    boxes = np.expand_dims(boxes, axis=0)\n",
        "    return boxes"
      ],
      "execution_count": null,
      "outputs": []
    },
    {
      "cell_type": "code",
      "metadata": {
        "id": "cLfvZL3y7vk4"
      },
      "source": [
        "n_layers = 2 #Number of ssd head layers\n",
        "index = 0 #indicates which of ssd head layers are we referring to"
      ],
      "execution_count": null,
      "outputs": []
    },
    {
      "cell_type": "code",
      "metadata": {
        "id": "4hxkBp2m7p9I"
      },
      "source": [
        "sizes = anchor_sizes(n_layers)[index] # different sizes of grid (1/2, 1), (1/3,1/2) etc.."
      ],
      "execution_count": null,
      "outputs": []
    },
    {
      "cell_type": "code",
      "metadata": {
        "colab": {
          "base_uri": "https://localhost:8080/"
        },
        "id": "yA3nM9S-74o-",
        "outputId": "14cf2cb7-df78-4681-bd04-dfaa2f1b9e0b"
      },
      "source": [
        "sizes"
      ],
      "execution_count": null,
      "outputs": [
        {
          "output_type": "execute_result",
          "data": {
            "text/plain": [
              "[0.2, 0.33166247903554]"
            ]
          },
          "metadata": {
            "tags": []
          },
          "execution_count": 7
        }
      ]
    },
    {
      "cell_type": "code",
      "metadata": {
        "id": "RjUPr7k_75rW"
      },
      "source": [
        "aspect_ratios = (1, 2, 0.5)"
      ],
      "execution_count": null,
      "outputs": []
    },
    {
      "cell_type": "code",
      "metadata": {
        "id": "Mtt_isAZ8Aso"
      },
      "source": [
        "n_boxes = len(aspect_ratios) + 1 # number of anchor boxes per feature map and the additional box "
      ],
      "execution_count": null,
      "outputs": []
    },
    {
      "cell_type": "code",
      "metadata": {
        "colab": {
          "base_uri": "https://localhost:8080/"
        },
        "id": "nwD13HvU8Hlq",
        "outputId": "7e3f2271-c72f-4873-b241-2b31c430fdba"
      },
      "source": [
        "n_boxes"
      ],
      "execution_count": null,
      "outputs": [
        {
          "output_type": "execute_result",
          "data": {
            "text/plain": [
              "4"
            ]
          },
          "metadata": {
            "tags": []
          },
          "execution_count": 10
        }
      ]
    },
    {
      "cell_type": "code",
      "metadata": {
        "id": "9KEcmpx28Ik-"
      },
      "source": [
        "image_height, image_width, _ = 640, 480, 3 # ignore channels"
      ],
      "execution_count": null,
      "outputs": []
    },
    {
      "cell_type": "code",
      "metadata": {
        "id": "SGVAILft8rA7"
      },
      "source": [
        "feature_height, feature_width, _ = 7, 7, 512 # shape of activations? # ignore number of feature maps (last)"
      ],
      "execution_count": null,
      "outputs": []
    },
    {
      "cell_type": "markdown",
      "metadata": {
        "id": "VAyBqYjQ_esa"
      },
      "source": [
        "### why is this sizes[0]?\n",
        "Because sizes[1] is just for the additional box. sizes[0] has the actual scaling factor. Here sx=sy stored in sizes[0]"
      ]
    },
    {
      "cell_type": "code",
      "metadata": {
        "id": "-_GSemUX88qe"
      },
      "source": [
        "    # normalized width and height\n",
        "    # sizes[0] is scale size, sizes[1] is sqrt(scale*(scale+1))\n",
        "    norm_height = image_height * sizes[0]\n",
        "    norm_width = image_width * sizes[0] "
      ],
      "execution_count": 24,
      "outputs": []
    },
    {
      "cell_type": "code",
      "metadata": {
        "colab": {
          "base_uri": "https://localhost:8080/"
        },
        "id": "Rxqn5fBt9J4l",
        "outputId": "be80965f-5513-441a-8c99-806dbc82cf9c"
      },
      "source": [
        "norm_height, norm_width"
      ],
      "execution_count": 25,
      "outputs": [
        {
          "output_type": "execute_result",
          "data": {
            "text/plain": [
              "(128.0, 96.0)"
            ]
          },
          "metadata": {
            "tags": []
          },
          "execution_count": 25
        }
      ]
    },
    {
      "cell_type": "code",
      "metadata": {
        "id": "tTS-oBHs9K4q"
      },
      "source": [
        "    # list of anchor boxes (width, height)\n",
        "    width_height = []\n",
        "    # anchor box by aspect ratio on resized image dims\n",
        "    # Equation 11.2.3 \n",
        "    for ar in aspect_ratios:\n",
        "        box_width = norm_width * np.sqrt(ar)\n",
        "        box_height = norm_height / np.sqrt(ar)\n",
        "        width_height.append((box_width, box_height))"
      ],
      "execution_count": 26,
      "outputs": []
    },
    {
      "cell_type": "code",
      "metadata": {
        "colab": {
          "base_uri": "https://localhost:8080/"
        },
        "id": "J6TozOTU-CAK",
        "outputId": "6060194a-e922-4775-bc2b-8c2e609fafde"
      },
      "source": [
        "width_height # grid sizes for a given size of \\grid"
      ],
      "execution_count": 27,
      "outputs": [
        {
          "output_type": "execute_result",
          "data": {
            "text/plain": [
              "[(96.0, 128.0),\n",
              " (135.76450198781714, 90.50966799187808),\n",
              " (67.88225099390857, 181.01933598375615)]"
            ]
          },
          "metadata": {
            "tags": []
          },
          "execution_count": 27
        }
      ]
    },
    {
      "cell_type": "markdown",
      "metadata": {
        "id": "c0zffVWm_QSf"
      },
      "source": [
        "Additional box for the aspect ratio 1"
      ]
    },
    {
      "cell_type": "code",
      "metadata": {
        "id": "zWiPilZt-SzD"
      },
      "source": [
        "box_width = image_width * sizes[1]\n",
        "box_height = image_height * sizes[1] # multiply anchor box dim by size[1] for aspect_ratio = 1\n",
        "width_height.append((box_width, box_height)) "
      ],
      "execution_count": 28,
      "outputs": []
    },
    {
      "cell_type": "code",
      "metadata": {
        "id": "HBBBNGGs-C5w",
        "colab": {
          "base_uri": "https://localhost:8080/"
        },
        "outputId": "65ad60d2-823c-44db-a36d-b5ac0e40fd35"
      },
      "source": [
        "width_height"
      ],
      "execution_count": 29,
      "outputs": [
        {
          "output_type": "execute_result",
          "data": {
            "text/plain": [
              "[(96.0, 128.0),\n",
              " (135.76450198781714, 90.50966799187808),\n",
              " (67.88225099390857, 181.01933598375615),\n",
              " (159.19798993705922, 212.26398658274562)]"
            ]
          },
          "metadata": {
            "tags": []
          },
          "execution_count": 29
        }
      ]
    },
    {
      "cell_type": "code",
      "metadata": {
        "colab": {
          "base_uri": "https://localhost:8080/"
        },
        "id": "UnbPhshl_xbz",
        "outputId": "c6ef9b06-3159-4864-cea3-0a890301f6d2"
      },
      "source": [
        "width_height = np.array(width_height)\n",
        "width_height"
      ],
      "execution_count": 30,
      "outputs": [
        {
          "output_type": "execute_result",
          "data": {
            "text/plain": [
              "array([[ 96.        , 128.        ],\n",
              "       [135.76450199,  90.50966799],\n",
              "       [ 67.88225099, 181.01933598],\n",
              "       [159.19798994, 212.26398658]])"
            ]
          },
          "metadata": {
            "tags": []
          },
          "execution_count": 30
        }
      ]
    },
    {
      "cell_type": "markdown",
      "metadata": {
        "id": "zW51njyMAAZE"
      },
      "source": [
        "### Find out the size of receptive field as ratio of image dim and output feature size: 640/7 480/7"
      ]
    },
    {
      "cell_type": "markdown",
      "metadata": {
        "id": "FMgcqMiAGkw2"
      },
      "source": [
        "This basically finds the size of each grid cell in the input image."
      ]
    },
    {
      "cell_type": "code",
      "metadata": {
        "colab": {
          "base_uri": "https://localhost:8080/"
        },
        "id": "0pUzh-rU_270",
        "outputId": "faa307be-f0b0-4bdb-ae1b-b043d4186a37"
      },
      "source": [
        "    # dimensions of each receptive field in pixels\n",
        "    grid_width = image_width / feature_width\n",
        "    grid_height = image_height / feature_height\n",
        "    grid_width, grid_height"
      ],
      "execution_count": 32,
      "outputs": [
        {
          "output_type": "execute_result",
          "data": {
            "text/plain": [
              "(68.57142857142857, 91.42857142857143)"
            ]
          },
          "metadata": {
            "tags": []
          },
          "execution_count": 32
        }
      ]
    },
    {
      "cell_type": "markdown",
      "metadata": {
        "id": "uoizspqBGwpL"
      },
      "source": [
        "Find location of each grid cell x and y based on this"
      ]
    },
    {
      "cell_type": "code",
      "metadata": {
        "id": "aNnAPH7SGDP4"
      },
      "source": [
        "    # compute center of receptive field per feature pt\n",
        "    # (cx, cy) format \n",
        "    # starting at midpoint of 1st receptive field\n",
        "    start = grid_width * 0.5 \n",
        "    # ending at midpoint of last receptive field\n",
        "    end = (feature_width - 0.5) * grid_width # 0.5 is safety margin to not print last size "
      ],
      "execution_count": 70,
      "outputs": []
    },
    {
      "cell_type": "code",
      "metadata": {
        "colab": {
          "base_uri": "https://localhost:8080/"
        },
        "id": "xIz3HcEtGEMS",
        "outputId": "eabe4ce5-612b-4941-abd4-06023d4fd855"
      },
      "source": [
        "start, end"
      ],
      "execution_count": 71,
      "outputs": [
        {
          "output_type": "execute_result",
          "data": {
            "text/plain": [
              "(34.285714285714285, 445.7142857142857)"
            ]
          },
          "metadata": {
            "tags": []
          },
          "execution_count": 71
        }
      ]
    },
    {
      "cell_type": "markdown",
      "metadata": {
        "id": "Zk9Tid4WG3nu"
      },
      "source": [
        "Starting points of x of each grid cell"
      ]
    },
    {
      "cell_type": "code",
      "metadata": {
        "colab": {
          "base_uri": "https://localhost:8080/"
        },
        "id": "RNuglQPMGQ3C",
        "outputId": "1cf45670-7688-4ad4-bae5-0f91230a1e52"
      },
      "source": [
        "np.linspace(start, end, feature_width)"
      ],
      "execution_count": 67,
      "outputs": [
        {
          "output_type": "execute_result",
          "data": {
            "text/plain": [
              "array([ 34.28571429, 102.85714286, 171.42857143, 240.        ,\n",
              "       308.57142857, 377.14285714, 445.71428571])"
            ]
          },
          "metadata": {
            "tags": []
          },
          "execution_count": 67
        }
      ]
    },
    {
      "cell_type": "markdown",
      "metadata": {
        "id": "sjO1pmvGG74z"
      },
      "source": [
        "Similarly for y"
      ]
    },
    {
      "cell_type": "code",
      "metadata": {
        "colab": {
          "base_uri": "https://localhost:8080/"
        },
        "id": "LxrsfNC1AD0a",
        "outputId": "7029d729-3a13-4588-b35c-b059b91fe4bc"
      },
      "source": [
        "    cx = np.linspace(start, end, feature_width)\n",
        "\n",
        "    start = grid_height * 0.5\n",
        "    end = (feature_height - 0.5) * grid_height\n",
        "    cy = np.linspace(start, end, feature_height)\n",
        "    cx, cy"
      ],
      "execution_count": 68,
      "outputs": [
        {
          "output_type": "execute_result",
          "data": {
            "text/plain": [
              "(array([ 34.28571429, 102.85714286, 171.42857143, 240.        ,\n",
              "        308.57142857, 377.14285714, 445.71428571]),\n",
              " array([ 45.71428571, 137.14285714, 228.57142857, 320.        ,\n",
              "        411.42857143, 502.85714286, 594.28571429]))"
            ]
          },
          "metadata": {
            "tags": []
          },
          "execution_count": 68
        }
      ]
    },
    {
      "cell_type": "code",
      "metadata": {
        "id": "M67Txim3G_7o"
      },
      "source": [
        " np.meshgrid?"
      ],
      "execution_count": 69,
      "outputs": []
    },
    {
      "cell_type": "markdown",
      "metadata": {
        "id": "-g9jGLJQHJhO"
      },
      "source": [
        "Returns a tuple of positions indicating the **center-coordinates** of each grid cell"
      ]
    },
    {
      "cell_type": "code",
      "metadata": {
        "colab": {
          "base_uri": "https://localhost:8080/"
        },
        "id": "Y-8zmMmWHiy7",
        "outputId": "f70bf368-47ef-4166-e247-4f3134ac1f1c"
      },
      "source": [
        "np.meshgrid(cx, cy)"
      ],
      "execution_count": 73,
      "outputs": [
        {
          "output_type": "execute_result",
          "data": {
            "text/plain": [
              "[array([[ 34.28571429, 102.85714286, 171.42857143, 240.        ,\n",
              "         308.57142857, 377.14285714, 445.71428571],\n",
              "        [ 34.28571429, 102.85714286, 171.42857143, 240.        ,\n",
              "         308.57142857, 377.14285714, 445.71428571],\n",
              "        [ 34.28571429, 102.85714286, 171.42857143, 240.        ,\n",
              "         308.57142857, 377.14285714, 445.71428571],\n",
              "        [ 34.28571429, 102.85714286, 171.42857143, 240.        ,\n",
              "         308.57142857, 377.14285714, 445.71428571],\n",
              "        [ 34.28571429, 102.85714286, 171.42857143, 240.        ,\n",
              "         308.57142857, 377.14285714, 445.71428571],\n",
              "        [ 34.28571429, 102.85714286, 171.42857143, 240.        ,\n",
              "         308.57142857, 377.14285714, 445.71428571],\n",
              "        [ 34.28571429, 102.85714286, 171.42857143, 240.        ,\n",
              "         308.57142857, 377.14285714, 445.71428571]]),\n",
              " array([[ 45.71428571,  45.71428571,  45.71428571,  45.71428571,\n",
              "          45.71428571,  45.71428571,  45.71428571],\n",
              "        [137.14285714, 137.14285714, 137.14285714, 137.14285714,\n",
              "         137.14285714, 137.14285714, 137.14285714],\n",
              "        [228.57142857, 228.57142857, 228.57142857, 228.57142857,\n",
              "         228.57142857, 228.57142857, 228.57142857],\n",
              "        [320.        , 320.        , 320.        , 320.        ,\n",
              "         320.        , 320.        , 320.        ],\n",
              "        [411.42857143, 411.42857143, 411.42857143, 411.42857143,\n",
              "         411.42857143, 411.42857143, 411.42857143],\n",
              "        [502.85714286, 502.85714286, 502.85714286, 502.85714286,\n",
              "         502.85714286, 502.85714286, 502.85714286],\n",
              "        [594.28571429, 594.28571429, 594.28571429, 594.28571429,\n",
              "         594.28571429, 594.28571429, 594.28571429]])]"
            ]
          },
          "metadata": {
            "tags": []
          },
          "execution_count": 73
        }
      ]
    },
    {
      "cell_type": "code",
      "metadata": {
        "id": "6uC81smTAaDB"
      },
      "source": [
        "cx_grid, cy_grid = np.meshgrid(cx, cy)"
      ],
      "execution_count": 74,
      "outputs": []
    },
    {
      "cell_type": "code",
      "metadata": {
        "id": "XnizkES7Ckxt"
      },
      "source": [
        "from matplotlib import pyplot as plt"
      ],
      "execution_count": 77,
      "outputs": []
    },
    {
      "cell_type": "markdown",
      "metadata": {
        "id": "U9bHNYPaIHjw"
      },
      "source": [
        "These are the centers of the grid cell in the input image, according to the receptive field size"
      ]
    },
    {
      "cell_type": "code",
      "metadata": {
        "colab": {
          "base_uri": "https://localhost:8080/",
          "height": 283
        },
        "id": "-pR083fMCl6Z",
        "outputId": "2f1da4d0-9350-4ecf-fd9f-5a2e62045e16"
      },
      "source": [
        "plt.scatter(cx_grid,cy_grid) "
      ],
      "execution_count": 82,
      "outputs": [
        {
          "output_type": "execute_result",
          "data": {
            "text/plain": [
              "<matplotlib.collections.PathCollection at 0x7f89bca08a50>"
            ]
          },
          "metadata": {
            "tags": []
          },
          "execution_count": 82
        },
        {
          "output_type": "display_data",
          "data": {
            "image/png": "[encoded data removed]",
            "text/plain": [
              "<Figure size 432x288 with 1 Axes>"
            ]
          },
          "metadata": {
            "tags": [],
            "needs_background": "light"
          }
        }
      ]
    },
    {
      "cell_type": "code",
      "metadata": {
        "id": "DW-Ydz8JCn1f"
      },
      "source": [
        "    # for np.tile()\n",
        "    cx_grid = np.expand_dims(cx_grid, -1)  # like unsqueeze\n",
        "    cy_grid = np.expand_dims(cy_grid, -1)"
      ],
      "execution_count": 83,
      "outputs": []
    },
    {
      "cell_type": "code",
      "metadata": {
        "colab": {
          "base_uri": "https://localhost:8080/"
        },
        "id": "54KLRORZIUhb",
        "outputId": "3c67ae81-89cb-4036-bf3d-4a2722d871e1"
      },
      "source": [
        "feature_height*feature_width*n_boxes"
      ],
      "execution_count": 84,
      "outputs": [
        {
          "output_type": "execute_result",
          "data": {
            "text/plain": [
              "196"
            ]
          },
          "metadata": {
            "tags": []
          },
          "execution_count": 84
        }
      ]
    },
    {
      "cell_type": "code",
      "metadata": {
        "id": "Q5JnYTtFDCcl"
      },
      "source": [
        "boxes = np.zeros((feature_height, feature_width, n_boxes, 4)) # 4 coordinates per box"
      ],
      "execution_count": 85,
      "outputs": []
    },
    {
      "cell_type": "code",
      "metadata": {
        "colab": {
          "base_uri": "https://localhost:8080/"
        },
        "id": "Ig_KllLPDEVa",
        "outputId": "e2b05530-a7c5-4684-938c-801274c3c3ad"
      },
      "source": [
        "boxes.shape"
      ],
      "execution_count": 86,
      "outputs": [
        {
          "output_type": "execute_result",
          "data": {
            "text/plain": [
              "(7, 7, 4, 4)"
            ]
          },
          "metadata": {
            "tags": []
          },
          "execution_count": 86
        }
      ]
    },
    {
      "cell_type": "markdown",
      "metadata": {
        "id": "Cebh_jU7IlKZ"
      },
      "source": [
        "## Construct an array by repeating A the number of times given by reps.\n",
        "\n",
        "np.tile(A, reps)"
      ]
    },
    {
      "cell_type": "code",
      "metadata": {
        "colab": {
          "base_uri": "https://localhost:8080/"
        },
        "id": "mjDp3NCFI18M",
        "outputId": "8f36e2f3-79a8-412c-f114-09154e7da997"
      },
      "source": [
        "cx_grid.shape"
      ],
      "execution_count": 89,
      "outputs": [
        {
          "output_type": "execute_result",
          "data": {
            "text/plain": [
              "(7, 7, 1)"
            ]
          },
          "metadata": {
            "tags": []
          },
          "execution_count": 89
        }
      ]
    },
    {
      "cell_type": "code",
      "metadata": {
        "id": "WstaMvU-DNsZ"
      },
      "source": [
        "    # (cx, cy)\n",
        "    boxes[..., 0] = np.tile(cx_grid, (1, 1, n_boxes))\n",
        "    boxes[..., 1] = np.tile(cy_grid, (1, 1, n_boxes))"
      ],
      "execution_count": 92,
      "outputs": []
    },
    {
      "cell_type": "code",
      "metadata": {
        "colab": {
          "base_uri": "https://localhost:8080/"
        },
        "id": "BgYJaxgMI_Uv",
        "outputId": "c9c9356b-5a2e-4980-c28b-1eccd48c1104"
      },
      "source": [
        " boxes[..., 0].shape"
      ],
      "execution_count": 93,
      "outputs": [
        {
          "output_type": "execute_result",
          "data": {
            "text/plain": [
              "(7, 7, 4)"
            ]
          },
          "metadata": {
            "tags": []
          },
          "execution_count": 93
        }
      ]
    },
    {
      "cell_type": "code",
      "metadata": {
        "colab": {
          "base_uri": "https://localhost:8080/"
        },
        "id": "yqFaOdclJBRv",
        "outputId": "56787adf-3058-4219-fe3f-457af21d70a1"
      },
      "source": [
        " boxes"
      ],
      "execution_count": 95,
      "outputs": [
        {
          "output_type": "execute_result",
          "data": {
            "text/plain": [
              "array([[[[ 34.28571429,  45.71428571,   0.        ,   0.        ],\n",
              "         [ 34.28571429,  45.71428571,   0.        ,   0.        ],\n",
              "         [ 34.28571429,  45.71428571,   0.        ,   0.        ],\n",
              "         [ 34.28571429,  45.71428571,   0.        ,   0.        ]],\n",
              "\n",
              "        [[102.85714286,  45.71428571,   0.        ,   0.        ],\n",
              "         [102.85714286,  45.71428571,   0.        ,   0.        ],\n",
              "         [102.85714286,  45.71428571,   0.        ,   0.        ],\n",
              "         [102.85714286,  45.71428571,   0.        ,   0.        ]],\n",
              "\n",
              "        [[171.42857143,  45.71428571,   0.        ,   0.        ],\n",
              "         [171.42857143,  45.71428571,   0.        ,   0.        ],\n",
              "         [171.42857143,  45.71428571,   0.        ,   0.        ],\n",
              "         [171.42857143,  45.71428571,   0.        ,   0.        ]],\n",
              "\n",
              "        [[240.        ,  45.71428571,   0.        ,   0.        ],\n",
              "         [240.        ,  45.71428571,   0.        ,   0.        ],\n",
              "         [240.        ,  45.71428571,   0.        ,   0.        ],\n",
              "         [240.        ,  45.71428571,   0.        ,   0.        ]],\n",
              "\n",
              "        [[308.57142857,  45.71428571,   0.        ,   0.        ],\n",
              "         [308.57142857,  45.71428571,   0.        ,   0.        ],\n",
              "         [308.57142857,  45.71428571,   0.        ,   0.        ],\n",
              "         [308.57142857,  45.71428571,   0.        ,   0.        ]],\n",
              "\n",
              "        [[377.14285714,  45.71428571,   0.        ,   0.        ],\n",
              "         [377.14285714,  45.71428571,   0.        ,   0.        ],\n",
              "         [377.14285714,  45.71428571,   0.        ,   0.        ],\n",
              "         [377.14285714,  45.71428571,   0.        ,   0.        ]],\n",
              "\n",
              "        [[445.71428571,  45.71428571,   0.        ,   0.        ],\n",
              "         [445.71428571,  45.71428571,   0.        ,   0.        ],\n",
              "         [445.71428571,  45.71428571,   0.        ,   0.        ],\n",
              "         [445.71428571,  45.71428571,   0.        ,   0.        ]]],\n",
              "\n",
              "\n",
              "       [[[ 34.28571429, 137.14285714,   0.        ,   0.        ],\n",
              "         [ 34.28571429, 137.14285714,   0.        ,   0.        ],\n",
              "         [ 34.28571429, 137.14285714,   0.        ,   0.        ],\n",
              "         [ 34.28571429, 137.14285714,   0.        ,   0.        ]],\n",
              "\n",
              "        [[102.85714286, 137.14285714,   0.        ,   0.        ],\n",
              "         [102.85714286, 137.14285714,   0.        ,   0.        ],\n",
              "         [102.85714286, 137.14285714,   0.        ,   0.        ],\n",
              "         [102.85714286, 137.14285714,   0.        ,   0.        ]],\n",
              "\n",
              "        [[171.42857143, 137.14285714,   0.        ,   0.        ],\n",
              "         [171.42857143, 137.14285714,   0.        ,   0.        ],\n",
              "         [171.42857143, 137.14285714,   0.        ,   0.        ],\n",
              "         [171.42857143, 137.14285714,   0.        ,   0.        ]],\n",
              "\n",
              "        [[240.        , 137.14285714,   0.        ,   0.        ],\n",
              "         [240.        , 137.14285714,   0.        ,   0.        ],\n",
              "         [240.        , 137.14285714,   0.        ,   0.        ],\n",
              "         [240.        , 137.14285714,   0.        ,   0.        ]],\n",
              "\n",
              "        [[308.57142857, 137.14285714,   0.        ,   0.        ],\n",
              "         [308.57142857, 137.14285714,   0.        ,   0.        ],\n",
              "         [308.57142857, 137.14285714,   0.        ,   0.        ],\n",
              "         [308.57142857, 137.14285714,   0.        ,   0.        ]],\n",
              "\n",
              "        [[377.14285714, 137.14285714,   0.        ,   0.        ],\n",
              "         [377.14285714, 137.14285714,   0.        ,   0.        ],\n",
              "         [377.14285714, 137.14285714,   0.        ,   0.        ],\n",
              "         [377.14285714, 137.14285714,   0.        ,   0.        ]],\n",
              "\n",
              "        [[445.71428571, 137.14285714,   0.        ,   0.        ],\n",
              "         [445.71428571, 137.14285714,   0.        ,   0.        ],\n",
              "         [445.71428571, 137.14285714,   0.        ,   0.        ],\n",
              "         [445.71428571, 137.14285714,   0.        ,   0.        ]]],\n",
              "\n",
              "\n",
              "       [[[ 34.28571429, 228.57142857,   0.        ,   0.        ],\n",
              "         [ 34.28571429, 228.57142857,   0.        ,   0.        ],\n",
              "         [ 34.28571429, 228.57142857,   0.        ,   0.        ],\n",
              "         [ 34.28571429, 228.57142857,   0.        ,   0.        ]],\n",
              "\n",
              "        [[102.85714286, 228.57142857,   0.        ,   0.        ],\n",
              "         [102.85714286, 228.57142857,   0.        ,   0.        ],\n",
              "         [102.85714286, 228.57142857,   0.        ,   0.        ],\n",
              "         [102.85714286, 228.57142857,   0.        ,   0.        ]],\n",
              "\n",
              "        [[171.42857143, 228.57142857,   0.        ,   0.        ],\n",
              "         [171.42857143, 228.57142857,   0.        ,   0.        ],\n",
              "         [171.42857143, 228.57142857,   0.        ,   0.        ],\n",
              "         [171.42857143, 228.57142857,   0.        ,   0.        ]],\n",
              "\n",
              "        [[240.        , 228.57142857,   0.        ,   0.        ],\n",
              "         [240.        , 228.57142857,   0.        ,   0.        ],\n",
              "         [240.        , 228.57142857,   0.        ,   0.        ],\n",
              "         [240.        , 228.57142857,   0.        ,   0.        ]],\n",
              "\n",
              "        [[308.57142857, 228.57142857,   0.        ,   0.        ],\n",
              "         [308.57142857, 228.57142857,   0.        ,   0.        ],\n",
              "         [308.57142857, 228.57142857,   0.        ,   0.        ],\n",
              "         [308.57142857, 228.57142857,   0.        ,   0.        ]],\n",
              "\n",
              "        [[377.14285714, 228.57142857,   0.        ,   0.        ],\n",
              "         [377.14285714, 228.57142857,   0.        ,   0.        ],\n",
              "         [377.14285714, 228.57142857,   0.        ,   0.        ],\n",
              "         [377.14285714, 228.57142857,   0.        ,   0.        ]],\n",
              "\n",
              "        [[445.71428571, 228.57142857,   0.        ,   0.        ],\n",
              "         [445.71428571, 228.57142857,   0.        ,   0.        ],\n",
              "         [445.71428571, 228.57142857,   0.        ,   0.        ],\n",
              "         [445.71428571, 228.57142857,   0.        ,   0.        ]]],\n",
              "\n",
              "\n",
              "       [[[ 34.28571429, 320.        ,   0.        ,   0.        ],\n",
              "         [ 34.28571429, 320.        ,   0.        ,   0.        ],\n",
              "         [ 34.28571429, 320.        ,   0.        ,   0.        ],\n",
              "         [ 34.28571429, 320.        ,   0.        ,   0.        ]],\n",
              "\n",
              "        [[102.85714286, 320.        ,   0.        ,   0.        ],\n",
              "         [102.85714286, 320.        ,   0.        ,   0.        ],\n",
              "         [102.85714286, 320.        ,   0.        ,   0.        ],\n",
              "         [102.85714286, 320.        ,   0.        ,   0.        ]],\n",
              "\n",
              "        [[171.42857143, 320.        ,   0.        ,   0.        ],\n",
              "         [171.42857143, 320.        ,   0.        ,   0.        ],\n",
              "         [171.42857143, 320.        ,   0.        ,   0.        ],\n",
              "         [171.42857143, 320.        ,   0.        ,   0.        ]],\n",
              "\n",
              "        [[240.        , 320.        ,   0.        ,   0.        ],\n",
              "         [240.        , 320.        ,   0.        ,   0.        ],\n",
              "         [240.        , 320.        ,   0.        ,   0.        ],\n",
              "         [240.        , 320.        ,   0.        ,   0.        ]],\n",
              "\n",
              "        [[308.57142857, 320.        ,   0.        ,   0.        ],\n",
              "         [308.57142857, 320.        ,   0.        ,   0.        ],\n",
              "         [308.57142857, 320.        ,   0.        ,   0.        ],\n",
              "         [308.57142857, 320.        ,   0.        ,   0.        ]],\n",
              "\n",
              "        [[377.14285714, 320.        ,   0.        ,   0.        ],\n",
              "         [377.14285714, 320.        ,   0.        ,   0.        ],\n",
              "         [377.14285714, 320.        ,   0.        ,   0.        ],\n",
              "         [377.14285714, 320.        ,   0.        ,   0.        ]],\n",
              "\n",
              "        [[445.71428571, 320.        ,   0.        ,   0.        ],\n",
              "         [445.71428571, 320.        ,   0.        ,   0.        ],\n",
              "         [445.71428571, 320.        ,   0.        ,   0.        ],\n",
              "         [445.71428571, 320.        ,   0.        ,   0.        ]]],\n",
              "\n",
              "\n",
              "       [[[ 34.28571429, 411.42857143,   0.        ,   0.        ],\n",
              "         [ 34.28571429, 411.42857143,   0.        ,   0.        ],\n",
              "         [ 34.28571429, 411.42857143,   0.        ,   0.        ],\n",
              "         [ 34.28571429, 411.42857143,   0.        ,   0.        ]],\n",
              "\n",
              "        [[102.85714286, 411.42857143,   0.        ,   0.        ],\n",
              "         [102.85714286, 411.42857143,   0.        ,   0.        ],\n",
              "         [102.85714286, 411.42857143,   0.        ,   0.        ],\n",
              "         [102.85714286, 411.42857143,   0.        ,   0.        ]],\n",
              "\n",
              "        [[171.42857143, 411.42857143,   0.        ,   0.        ],\n",
              "         [171.42857143, 411.42857143,   0.        ,   0.        ],\n",
              "         [171.42857143, 411.42857143,   0.        ,   0.        ],\n",
              "         [171.42857143, 411.42857143,   0.        ,   0.        ]],\n",
              "\n",
              "        [[240.        , 411.42857143,   0.        ,   0.        ],\n",
              "         [240.        , 411.42857143,   0.        ,   0.        ],\n",
              "         [240.        , 411.42857143,   0.        ,   0.        ],\n",
              "         [240.        , 411.42857143,   0.        ,   0.        ]],\n",
              "\n",
              "        [[308.57142857, 411.42857143,   0.        ,   0.        ],\n",
              "         [308.57142857, 411.42857143,   0.        ,   0.        ],\n",
              "         [308.57142857, 411.42857143,   0.        ,   0.        ],\n",
              "         [308.57142857, 411.42857143,   0.        ,   0.        ]],\n",
              "\n",
              "        [[377.14285714, 411.42857143,   0.        ,   0.        ],\n",
              "         [377.14285714, 411.42857143,   0.        ,   0.        ],\n",
              "         [377.14285714, 411.42857143,   0.        ,   0.        ],\n",
              "         [377.14285714, 411.42857143,   0.        ,   0.        ]],\n",
              "\n",
              "        [[445.71428571, 411.42857143,   0.        ,   0.        ],\n",
              "         [445.71428571, 411.42857143,   0.        ,   0.        ],\n",
              "         [445.71428571, 411.42857143,   0.        ,   0.        ],\n",
              "         [445.71428571, 411.42857143,   0.        ,   0.        ]]],\n",
              "\n",
              "\n",
              "       [[[ 34.28571429, 502.85714286,   0.        ,   0.        ],\n",
              "         [ 34.28571429, 502.85714286,   0.        ,   0.        ],\n",
              "         [ 34.28571429, 502.85714286,   0.        ,   0.        ],\n",
              "         [ 34.28571429, 502.85714286,   0.        ,   0.        ]],\n",
              "\n",
              "        [[102.85714286, 502.85714286,   0.        ,   0.        ],\n",
              "         [102.85714286, 502.85714286,   0.        ,   0.        ],\n",
              "         [102.85714286, 502.85714286,   0.        ,   0.        ],\n",
              "         [102.85714286, 502.85714286,   0.        ,   0.        ]],\n",
              "\n",
              "        [[171.42857143, 502.85714286,   0.        ,   0.        ],\n",
              "         [171.42857143, 502.85714286,   0.        ,   0.        ],\n",
              "         [171.42857143, 502.85714286,   0.        ,   0.        ],\n",
              "         [171.42857143, 502.85714286,   0.        ,   0.        ]],\n",
              "\n",
              "        [[240.        , 502.85714286,   0.        ,   0.        ],\n",
              "         [240.        , 502.85714286,   0.        ,   0.        ],\n",
              "         [240.        , 502.85714286,   0.        ,   0.        ],\n",
              "         [240.        , 502.85714286,   0.        ,   0.        ]],\n",
              "\n",
              "        [[308.57142857, 502.85714286,   0.        ,   0.        ],\n",
              "         [308.57142857, 502.85714286,   0.        ,   0.        ],\n",
              "         [308.57142857, 502.85714286,   0.        ,   0.        ],\n",
              "         [308.57142857, 502.85714286,   0.        ,   0.        ]],\n",
              "\n",
              "        [[377.14285714, 502.85714286,   0.        ,   0.        ],\n",
              "         [377.14285714, 502.85714286,   0.        ,   0.        ],\n",
              "         [377.14285714, 502.85714286,   0.        ,   0.        ],\n",
              "         [377.14285714, 502.85714286,   0.        ,   0.        ]],\n",
              "\n",
              "        [[445.71428571, 502.85714286,   0.        ,   0.        ],\n",
              "         [445.71428571, 502.85714286,   0.        ,   0.        ],\n",
              "         [445.71428571, 502.85714286,   0.        ,   0.        ],\n",
              "         [445.71428571, 502.85714286,   0.        ,   0.        ]]],\n",
              "\n",
              "\n",
              "       [[[ 34.28571429, 594.28571429,   0.        ,   0.        ],\n",
              "         [ 34.28571429, 594.28571429,   0.        ,   0.        ],\n",
              "         [ 34.28571429, 594.28571429,   0.        ,   0.        ],\n",
              "         [ 34.28571429, 594.28571429,   0.        ,   0.        ]],\n",
              "\n",
              "        [[102.85714286, 594.28571429,   0.        ,   0.        ],\n",
              "         [102.85714286, 594.28571429,   0.        ,   0.        ],\n",
              "         [102.85714286, 594.28571429,   0.        ,   0.        ],\n",
              "         [102.85714286, 594.28571429,   0.        ,   0.        ]],\n",
              "\n",
              "        [[171.42857143, 594.28571429,   0.        ,   0.        ],\n",
              "         [171.42857143, 594.28571429,   0.        ,   0.        ],\n",
              "         [171.42857143, 594.28571429,   0.        ,   0.        ],\n",
              "         [171.42857143, 594.28571429,   0.        ,   0.        ]],\n",
              "\n",
              "        [[240.        , 594.28571429,   0.        ,   0.        ],\n",
              "         [240.        , 594.28571429,   0.        ,   0.        ],\n",
              "         [240.        , 594.28571429,   0.        ,   0.        ],\n",
              "         [240.        , 594.28571429,   0.        ,   0.        ]],\n",
              "\n",
              "        [[308.57142857, 594.28571429,   0.        ,   0.        ],\n",
              "         [308.57142857, 594.28571429,   0.        ,   0.        ],\n",
              "         [308.57142857, 594.28571429,   0.        ,   0.        ],\n",
              "         [308.57142857, 594.28571429,   0.        ,   0.        ]],\n",
              "\n",
              "        [[377.14285714, 594.28571429,   0.        ,   0.        ],\n",
              "         [377.14285714, 594.28571429,   0.        ,   0.        ],\n",
              "         [377.14285714, 594.28571429,   0.        ,   0.        ],\n",
              "         [377.14285714, 594.28571429,   0.        ,   0.        ]],\n",
              "\n",
              "        [[445.71428571, 594.28571429,   0.        ,   0.        ],\n",
              "         [445.71428571, 594.28571429,   0.        ,   0.        ],\n",
              "         [445.71428571, 594.28571429,   0.        ,   0.        ],\n",
              "         [445.71428571, 594.28571429,   0.        ,   0.        ]]]])"
            ]
          },
          "metadata": {
            "tags": []
          },
          "execution_count": 95
        }
      ]
    },
    {
      "cell_type": "code",
      "metadata": {
        "colab": {
          "base_uri": "https://localhost:8080/"
        },
        "id": "0jscHavXD7On",
        "outputId": "e7127e21-a34a-4ed9-98c9-2f6aa0c35e96"
      },
      "source": [
        "width_height"
      ],
      "execution_count": 96,
      "outputs": [
        {
          "output_type": "execute_result",
          "data": {
            "text/plain": [
              "array([[ 96.        , 128.        ],\n",
              "       [135.76450199,  90.50966799],\n",
              "       [ 67.88225099, 181.01933598],\n",
              "       [159.19798994, 212.26398658]])"
            ]
          },
          "metadata": {
            "tags": []
          },
          "execution_count": 96
        }
      ]
    },
    {
      "cell_type": "code",
      "metadata": {
        "colab": {
          "base_uri": "https://localhost:8080/"
        },
        "id": "8gaUD9AQD1_h",
        "outputId": "5f1187bd-555a-4ba4-8ae5-1b331e2ff3a7"
      },
      "source": [
        "width_height[:, 0]"
      ],
      "execution_count": 97,
      "outputs": [
        {
          "output_type": "execute_result",
          "data": {
            "text/plain": [
              "array([ 96.        , 135.76450199,  67.88225099, 159.19798994])"
            ]
          },
          "metadata": {
            "tags": []
          },
          "execution_count": 97
        }
      ]
    },
    {
      "cell_type": "code",
      "metadata": {
        "id": "8vKvEDFYDoZx"
      },
      "source": [
        "    # (w, h)\n",
        "    boxes[..., 2] = width_height[:, 0]\n",
        "    boxes[..., 3] = width_height[:, 1]"
      ],
      "execution_count": 98,
      "outputs": []
    },
    {
      "cell_type": "code",
      "metadata": {
        "id": "seI0trLVDqO5"
      },
      "source": [
        "    # convert (cx, cy, w, h) to (xmin, xmax, ymin, ymax)\n",
        "    # prepend one dimension to boxes \n",
        "    # to account for the batch size = 1\n",
        "    #boxes = centroid2minmax(boxes) # for voc only\n",
        "    boxes = np.expand_dims(boxes, axis=0)"
      ],
      "execution_count": 99,
      "outputs": []
    },
    {
      "cell_type": "code",
      "metadata": {
        "colab": {
          "base_uri": "https://localhost:8080/"
        },
        "id": "DU4GUldlDvx4",
        "outputId": "5c351069-a056-4a57-9209-8b1d39d18b56"
      },
      "source": [
        "boxes"
      ],
      "execution_count": 100,
      "outputs": [
        {
          "output_type": "execute_result",
          "data": {
            "text/plain": [
              "array([[[[[ 34.28571429,  45.71428571,  96.        , 128.        ],\n",
              "          [ 34.28571429,  45.71428571, 135.76450199,  90.50966799],\n",
              "          [ 34.28571429,  45.71428571,  67.88225099, 181.01933598],\n",
              "          [ 34.28571429,  45.71428571, 159.19798994, 212.26398658]],\n",
              "\n",
              "         [[102.85714286,  45.71428571,  96.        , 128.        ],\n",
              "          [102.85714286,  45.71428571, 135.76450199,  90.50966799],\n",
              "          [102.85714286,  45.71428571,  67.88225099, 181.01933598],\n",
              "          [102.85714286,  45.71428571, 159.19798994, 212.26398658]],\n",
              "\n",
              "         [[171.42857143,  45.71428571,  96.        , 128.        ],\n",
              "          [171.42857143,  45.71428571, 135.76450199,  90.50966799],\n",
              "          [171.42857143,  45.71428571,  67.88225099, 181.01933598],\n",
              "          [171.42857143,  45.71428571, 159.19798994, 212.26398658]],\n",
              "\n",
              "         [[240.        ,  45.71428571,  96.        , 128.        ],\n",
              "          [240.        ,  45.71428571, 135.76450199,  90.50966799],\n",
              "          [240.        ,  45.71428571,  67.88225099, 181.01933598],\n",
              "          [240.        ,  45.71428571, 159.19798994, 212.26398658]],\n",
              "\n",
              "         [[308.57142857,  45.71428571,  96.        , 128.        ],\n",
              "          [308.57142857,  45.71428571, 135.76450199,  90.50966799],\n",
              "          [308.57142857,  45.71428571,  67.88225099, 181.01933598],\n",
              "          [308.57142857,  45.71428571, 159.19798994, 212.26398658]],\n",
              "\n",
              "         [[377.14285714,  45.71428571,  96.        , 128.        ],\n",
              "          [377.14285714,  45.71428571, 135.76450199,  90.50966799],\n",
              "          [377.14285714,  45.71428571,  67.88225099, 181.01933598],\n",
              "          [377.14285714,  45.71428571, 159.19798994, 212.26398658]],\n",
              "\n",
              "         [[445.71428571,  45.71428571,  96.        , 128.        ],\n",
              "          [445.71428571,  45.71428571, 135.76450199,  90.50966799],\n",
              "          [445.71428571,  45.71428571,  67.88225099, 181.01933598],\n",
              "          [445.71428571,  45.71428571, 159.19798994, 212.26398658]]],\n",
              "\n",
              "\n",
              "        [[[ 34.28571429, 137.14285714,  96.        , 128.        ],\n",
              "          [ 34.28571429, 137.14285714, 135.76450199,  90.50966799],\n",
              "          [ 34.28571429, 137.14285714,  67.88225099, 181.01933598],\n",
              "          [ 34.28571429, 137.14285714, 159.19798994, 212.26398658]],\n",
              "\n",
              "         [[102.85714286, 137.14285714,  96.        , 128.        ],\n",
              "          [102.85714286, 137.14285714, 135.76450199,  90.50966799],\n",
              "          [102.85714286, 137.14285714,  67.88225099, 181.01933598],\n",
              "          [102.85714286, 137.14285714, 159.19798994, 212.26398658]],\n",
              "\n",
              "         [[171.42857143, 137.14285714,  96.        , 128.        ],\n",
              "          [171.42857143, 137.14285714, 135.76450199,  90.50966799],\n",
              "          [171.42857143, 137.14285714,  67.88225099, 181.01933598],\n",
              "          [171.42857143, 137.14285714, 159.19798994, 212.26398658]],\n",
              "\n",
              "         [[240.        , 137.14285714,  96.        , 128.        ],\n",
              "          [240.        , 137.14285714, 135.76450199,  90.50966799],\n",
              "          [240.        , 137.14285714,  67.88225099, 181.01933598],\n",
              "          [240.        , 137.14285714, 159.19798994, 212.26398658]],\n",
              "\n",
              "         [[308.57142857, 137.14285714,  96.        , 128.        ],\n",
              "          [308.57142857, 137.14285714, 135.76450199,  90.50966799],\n",
              "          [308.57142857, 137.14285714,  67.88225099, 181.01933598],\n",
              "          [308.57142857, 137.14285714, 159.19798994, 212.26398658]],\n",
              "\n",
              "         [[377.14285714, 137.14285714,  96.        , 128.        ],\n",
              "          [377.14285714, 137.14285714, 135.76450199,  90.50966799],\n",
              "          [377.14285714, 137.14285714,  67.88225099, 181.01933598],\n",
              "          [377.14285714, 137.14285714, 159.19798994, 212.26398658]],\n",
              "\n",
              "         [[445.71428571, 137.14285714,  96.        , 128.        ],\n",
              "          [445.71428571, 137.14285714, 135.76450199,  90.50966799],\n",
              "          [445.71428571, 137.14285714,  67.88225099, 181.01933598],\n",
              "          [445.71428571, 137.14285714, 159.19798994, 212.26398658]]],\n",
              "\n",
              "\n",
              "        [[[ 34.28571429, 228.57142857,  96.        , 128.        ],\n",
              "          [ 34.28571429, 228.57142857, 135.76450199,  90.50966799],\n",
              "          [ 34.28571429, 228.57142857,  67.88225099, 181.01933598],\n",
              "          [ 34.28571429, 228.57142857, 159.19798994, 212.26398658]],\n",
              "\n",
              "         [[102.85714286, 228.57142857,  96.        , 128.        ],\n",
              "          [102.85714286, 228.57142857, 135.76450199,  90.50966799],\n",
              "          [102.85714286, 228.57142857,  67.88225099, 181.01933598],\n",
              "          [102.85714286, 228.57142857, 159.19798994, 212.26398658]],\n",
              "\n",
              "         [[171.42857143, 228.57142857,  96.        , 128.        ],\n",
              "          [171.42857143, 228.57142857, 135.76450199,  90.50966799],\n",
              "          [171.42857143, 228.57142857,  67.88225099, 181.01933598],\n",
              "          [171.42857143, 228.57142857, 159.19798994, 212.26398658]],\n",
              "\n",
              "         [[240.        , 228.57142857,  96.        , 128.        ],\n",
              "          [240.        , 228.57142857, 135.76450199,  90.50966799],\n",
              "          [240.        , 228.57142857,  67.88225099, 181.01933598],\n",
              "          [240.        , 228.57142857, 159.19798994, 212.26398658]],\n",
              "\n",
              "         [[308.57142857, 228.57142857,  96.        , 128.        ],\n",
              "          [308.57142857, 228.57142857, 135.76450199,  90.50966799],\n",
              "          [308.57142857, 228.57142857,  67.88225099, 181.01933598],\n",
              "          [308.57142857, 228.57142857, 159.19798994, 212.26398658]],\n",
              "\n",
              "         [[377.14285714, 228.57142857,  96.        , 128.        ],\n",
              "          [377.14285714, 228.57142857, 135.76450199,  90.50966799],\n",
              "          [377.14285714, 228.57142857,  67.88225099, 181.01933598],\n",
              "          [377.14285714, 228.57142857, 159.19798994, 212.26398658]],\n",
              "\n",
              "         [[445.71428571, 228.57142857,  96.        , 128.        ],\n",
              "          [445.71428571, 228.57142857, 135.76450199,  90.50966799],\n",
              "          [445.71428571, 228.57142857,  67.88225099, 181.01933598],\n",
              "          [445.71428571, 228.57142857, 159.19798994, 212.26398658]]],\n",
              "\n",
              "\n",
              "        [[[ 34.28571429, 320.        ,  96.        , 128.        ],\n",
              "          [ 34.28571429, 320.        , 135.76450199,  90.50966799],\n",
              "          [ 34.28571429, 320.        ,  67.88225099, 181.01933598],\n",
              "          [ 34.28571429, 320.        , 159.19798994, 212.26398658]],\n",
              "\n",
              "         [[102.85714286, 320.        ,  96.        , 128.        ],\n",
              "          [102.85714286, 320.        , 135.76450199,  90.50966799],\n",
              "          [102.85714286, 320.        ,  67.88225099, 181.01933598],\n",
              "          [102.85714286, 320.        , 159.19798994, 212.26398658]],\n",
              "\n",
              "         [[171.42857143, 320.        ,  96.        , 128.        ],\n",
              "          [171.42857143, 320.        , 135.76450199,  90.50966799],\n",
              "          [171.42857143, 320.        ,  67.88225099, 181.01933598],\n",
              "          [171.42857143, 320.        , 159.19798994, 212.26398658]],\n",
              "\n",
              "         [[240.        , 320.        ,  96.        , 128.        ],\n",
              "          [240.        , 320.        , 135.76450199,  90.50966799],\n",
              "          [240.        , 320.        ,  67.88225099, 181.01933598],\n",
              "          [240.        , 320.        , 159.19798994, 212.26398658]],\n",
              "\n",
              "         [[308.57142857, 320.        ,  96.        , 128.        ],\n",
              "          [308.57142857, 320.        , 135.76450199,  90.50966799],\n",
              "          [308.57142857, 320.        ,  67.88225099, 181.01933598],\n",
              "          [308.57142857, 320.        , 159.19798994, 212.26398658]],\n",
              "\n",
              "         [[377.14285714, 320.        ,  96.        , 128.        ],\n",
              "          [377.14285714, 320.        , 135.76450199,  90.50966799],\n",
              "          [377.14285714, 320.        ,  67.88225099, 181.01933598],\n",
              "          [377.14285714, 320.        , 159.19798994, 212.26398658]],\n",
              "\n",
              "         [[445.71428571, 320.        ,  96.        , 128.        ],\n",
              "          [445.71428571, 320.        , 135.76450199,  90.50966799],\n",
              "          [445.71428571, 320.        ,  67.88225099, 181.01933598],\n",
              "          [445.71428571, 320.        , 159.19798994, 212.26398658]]],\n",
              "\n",
              "\n",
              "        [[[ 34.28571429, 411.42857143,  96.        , 128.        ],\n",
              "          [ 34.28571429, 411.42857143, 135.76450199,  90.50966799],\n",
              "          [ 34.28571429, 411.42857143,  67.88225099, 181.01933598],\n",
              "          [ 34.28571429, 411.42857143, 159.19798994, 212.26398658]],\n",
              "\n",
              "         [[102.85714286, 411.42857143,  96.        , 128.        ],\n",
              "          [102.85714286, 411.42857143, 135.76450199,  90.50966799],\n",
              "          [102.85714286, 411.42857143,  67.88225099, 181.01933598],\n",
              "          [102.85714286, 411.42857143, 159.19798994, 212.26398658]],\n",
              "\n",
              "         [[171.42857143, 411.42857143,  96.        , 128.        ],\n",
              "          [171.42857143, 411.42857143, 135.76450199,  90.50966799],\n",
              "          [171.42857143, 411.42857143,  67.88225099, 181.01933598],\n",
              "          [171.42857143, 411.42857143, 159.19798994, 212.26398658]],\n",
              "\n",
              "         [[240.        , 411.42857143,  96.        , 128.        ],\n",
              "          [240.        , 411.42857143, 135.76450199,  90.50966799],\n",
              "          [240.        , 411.42857143,  67.88225099, 181.01933598],\n",
              "          [240.        , 411.42857143, 159.19798994, 212.26398658]],\n",
              "\n",
              "         [[308.57142857, 411.42857143,  96.        , 128.        ],\n",
              "          [308.57142857, 411.42857143, 135.76450199,  90.50966799],\n",
              "          [308.57142857, 411.42857143,  67.88225099, 181.01933598],\n",
              "          [308.57142857, 411.42857143, 159.19798994, 212.26398658]],\n",
              "\n",
              "         [[377.14285714, 411.42857143,  96.        , 128.        ],\n",
              "          [377.14285714, 411.42857143, 135.76450199,  90.50966799],\n",
              "          [377.14285714, 411.42857143,  67.88225099, 181.01933598],\n",
              "          [377.14285714, 411.42857143, 159.19798994, 212.26398658]],\n",
              "\n",
              "         [[445.71428571, 411.42857143,  96.        , 128.        ],\n",
              "          [445.71428571, 411.42857143, 135.76450199,  90.50966799],\n",
              "          [445.71428571, 411.42857143,  67.88225099, 181.01933598],\n",
              "          [445.71428571, 411.42857143, 159.19798994, 212.26398658]]],\n",
              "\n",
              "\n",
              "        [[[ 34.28571429, 502.85714286,  96.        , 128.        ],\n",
              "          [ 34.28571429, 502.85714286, 135.76450199,  90.50966799],\n",
              "          [ 34.28571429, 502.85714286,  67.88225099, 181.01933598],\n",
              "          [ 34.28571429, 502.85714286, 159.19798994, 212.26398658]],\n",
              "\n",
              "         [[102.85714286, 502.85714286,  96.        , 128.        ],\n",
              "          [102.85714286, 502.85714286, 135.76450199,  90.50966799],\n",
              "          [102.85714286, 502.85714286,  67.88225099, 181.01933598],\n",
              "          [102.85714286, 502.85714286, 159.19798994, 212.26398658]],\n",
              "\n",
              "         [[171.42857143, 502.85714286,  96.        , 128.        ],\n",
              "          [171.42857143, 502.85714286, 135.76450199,  90.50966799],\n",
              "          [171.42857143, 502.85714286,  67.88225099, 181.01933598],\n",
              "          [171.42857143, 502.85714286, 159.19798994, 212.26398658]],\n",
              "\n",
              "         [[240.        , 502.85714286,  96.        , 128.        ],\n",
              "          [240.        , 502.85714286, 135.76450199,  90.50966799],\n",
              "          [240.        , 502.85714286,  67.88225099, 181.01933598],\n",
              "          [240.        , 502.85714286, 159.19798994, 212.26398658]],\n",
              "\n",
              "         [[308.57142857, 502.85714286,  96.        , 128.        ],\n",
              "          [308.57142857, 502.85714286, 135.76450199,  90.50966799],\n",
              "          [308.57142857, 502.85714286,  67.88225099, 181.01933598],\n",
              "          [308.57142857, 502.85714286, 159.19798994, 212.26398658]],\n",
              "\n",
              "         [[377.14285714, 502.85714286,  96.        , 128.        ],\n",
              "          [377.14285714, 502.85714286, 135.76450199,  90.50966799],\n",
              "          [377.14285714, 502.85714286,  67.88225099, 181.01933598],\n",
              "          [377.14285714, 502.85714286, 159.19798994, 212.26398658]],\n",
              "\n",
              "         [[445.71428571, 502.85714286,  96.        , 128.        ],\n",
              "          [445.71428571, 502.85714286, 135.76450199,  90.50966799],\n",
              "          [445.71428571, 502.85714286,  67.88225099, 181.01933598],\n",
              "          [445.71428571, 502.85714286, 159.19798994, 212.26398658]]],\n",
              "\n",
              "\n",
              "        [[[ 34.28571429, 594.28571429,  96.        , 128.        ],\n",
              "          [ 34.28571429, 594.28571429, 135.76450199,  90.50966799],\n",
              "          [ 34.28571429, 594.28571429,  67.88225099, 181.01933598],\n",
              "          [ 34.28571429, 594.28571429, 159.19798994, 212.26398658]],\n",
              "\n",
              "         [[102.85714286, 594.28571429,  96.        , 128.        ],\n",
              "          [102.85714286, 594.28571429, 135.76450199,  90.50966799],\n",
              "          [102.85714286, 594.28571429,  67.88225099, 181.01933598],\n",
              "          [102.85714286, 594.28571429, 159.19798994, 212.26398658]],\n",
              "\n",
              "         [[171.42857143, 594.28571429,  96.        , 128.        ],\n",
              "          [171.42857143, 594.28571429, 135.76450199,  90.50966799],\n",
              "          [171.42857143, 594.28571429,  67.88225099, 181.01933598],\n",
              "          [171.42857143, 594.28571429, 159.19798994, 212.26398658]],\n",
              "\n",
              "         [[240.        , 594.28571429,  96.        , 128.        ],\n",
              "          [240.        , 594.28571429, 135.76450199,  90.50966799],\n",
              "          [240.        , 594.28571429,  67.88225099, 181.01933598],\n",
              "          [240.        , 594.28571429, 159.19798994, 212.26398658]],\n",
              "\n",
              "         [[308.57142857, 594.28571429,  96.        , 128.        ],\n",
              "          [308.57142857, 594.28571429, 135.76450199,  90.50966799],\n",
              "          [308.57142857, 594.28571429,  67.88225099, 181.01933598],\n",
              "          [308.57142857, 594.28571429, 159.19798994, 212.26398658]],\n",
              "\n",
              "         [[377.14285714, 594.28571429,  96.        , 128.        ],\n",
              "          [377.14285714, 594.28571429, 135.76450199,  90.50966799],\n",
              "          [377.14285714, 594.28571429,  67.88225099, 181.01933598],\n",
              "          [377.14285714, 594.28571429, 159.19798994, 212.26398658]],\n",
              "\n",
              "         [[445.71428571, 594.28571429,  96.        , 128.        ],\n",
              "          [445.71428571, 594.28571429, 135.76450199,  90.50966799],\n",
              "          [445.71428571, 594.28571429,  67.88225099, 181.01933598],\n",
              "          [445.71428571, 594.28571429, 159.19798994, 212.26398658]]]]])"
            ]
          },
          "metadata": {
            "tags": []
          },
          "execution_count": 100
        }
      ]
    },
    {
      "cell_type": "code",
      "metadata": {
        "id": "cJXE-woDDwb9"
      },
      "source": [
        ""
      ],
      "execution_count": null,
      "outputs": []
    }
  ]
}
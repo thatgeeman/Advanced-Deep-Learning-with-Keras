{
 "cells": [
  {
   "cell_type": "markdown",
   "metadata": {
    "id": "zGtCt8OsMtLf"
   },
   "source": [
    "Get the prerequisites done"
   ]
  },
  {
   "cell_type": "code",
   "execution_count": 1,
   "metadata": {
    "colab": {
     "base_uri": "https://localhost:8080/"
    },
    "id": "7vAFSKy5VfbC",
    "outputId": "016b5b48-1ee1-45ff-b44a-a486475567e7"
   },
   "outputs": [],
   "source": [
    "!pip freeze | grep \"tensorflow\\|keras\\|pydot\""
   ]
  },
  {
   "cell_type": "code",
   "execution_count": 3,
   "metadata": {
    "colab": {
     "base_uri": "https://localhost:8080/"
    },
    "id": "cwL1KkN4MV1f",
    "outputId": "256ac028-ef85-4232-a7fe-b1d803bf6374"
   },
   "outputs": [
    {
     "ename": "ModuleNotFoundError",
     "evalue": "No module named 'config'",
     "output_type": "error",
     "traceback": [
      "\u001b[0;31m---------------------------------------------------------------------------\u001b[0m",
      "\u001b[0;31mModuleNotFoundError\u001b[0m                       Traceback (most recent call last)",
      "\u001b[0;32m<ipython-input-3-042d06723133>\u001b[0m in \u001b[0;36m<module>\u001b[0;34m\u001b[0m\n\u001b[0;32m----> 1\u001b[0;31m \u001b[0;32mimport\u001b[0m \u001b[0mconfig\u001b[0m\u001b[0;34m\u001b[0m\u001b[0;34m\u001b[0m\u001b[0m\n\u001b[0m\u001b[1;32m      2\u001b[0m \u001b[0;32mimport\u001b[0m \u001b[0mmath\u001b[0m\u001b[0;34m\u001b[0m\u001b[0;34m\u001b[0m\u001b[0m\n\u001b[1;32m      3\u001b[0m \u001b[0;31m#from tensorflow.keras import backend as K\u001b[0m\u001b[0;34m\u001b[0m\u001b[0;34m\u001b[0m\u001b[0;34m\u001b[0m\u001b[0m\n\u001b[1;32m      4\u001b[0m \u001b[0;34m\u001b[0m\u001b[0m\n\u001b[1;32m      5\u001b[0m \u001b[0;32mdef\u001b[0m \u001b[0manchor_sizes\u001b[0m\u001b[0;34m(\u001b[0m\u001b[0mn_layers\u001b[0m\u001b[0;34m=\u001b[0m\u001b[0;36m4\u001b[0m\u001b[0;34m)\u001b[0m\u001b[0;34m:\u001b[0m\u001b[0;34m\u001b[0m\u001b[0;34m\u001b[0m\u001b[0m\n",
      "\u001b[0;31mModuleNotFoundError\u001b[0m: No module named 'config'"
     ]
    }
   ],
   "source": [
    "import config\n",
    "import math\n",
    "#from tensorflow.keras import backend as K\n",
    "\n",
    "def anchor_sizes(n_layers=4):\n",
    "    \"\"\"Generate linear distribution of sizes depending on \n",
    "    the number of ssd top layers\n",
    "\n",
    "    Arguments:\n",
    "        n_layers (int): Number of ssd head layers\n",
    "\n",
    "    Returns:\n",
    "        sizes (list): A list of anchor sizes\n",
    "    \"\"\"\n",
    "    s = np.linspace(0.2, 0.9, n_layers + 1)\n",
    "    sizes = []\n",
    "    for i in range(len(s) - 1):\n",
    "        # size = [s[i], (s[i] * 0.5)]\n",
    "        size = [s[i], math.sqrt(s[i] * s[i + 1])]\n",
    "        sizes.append(size)\n",
    "\n",
    "    return sizes"
   ]
  },
  {
   "cell_type": "code",
   "execution_count": 12,
   "metadata": {
    "colab": {
     "base_uri": "https://localhost:8080/"
    },
    "id": "j1vN-Cr6WQNJ",
    "outputId": "ab4703b0-2b53-47a2-97dc-016cbcc34d3b"
   },
   "outputs": [
    {
     "name": "stdout",
     "output_type": "stream",
     "text": [
      "1e-07\n"
     ]
    }
   ],
   "source": [
    "from tensorflow.keras import backend as K\n",
    "print(K.epsilon())"
   ]
  },
  {
   "cell_type": "code",
   "execution_count": 14,
   "metadata": {
    "colab": {
     "base_uri": "https://localhost:8080/"
    },
    "id": "j2kXo3swMdpq",
    "outputId": "cb7fb1db-ad1d-4829-ffa8-865186b9a020"
   },
   "outputs": [
    {
     "name": "stdout",
     "output_type": "stream",
     "text": [
      "Mounted at /content/drive\n"
     ]
    }
   ],
   "source": [
    "import os\n",
    "gce=False\n",
    "if 'NO_GCE_CHECK' in os.environ:\n",
    "  gce = True\n",
    "if gce:\n",
    "  from google.colab import drive\n",
    "  drive.mount('/content/drive')\n",
    "  os.environ['KAGGLE_CONFIG_DIR'] = '/content/drive/MyDrive/Colab Notebooks'\n",
    "else:\n",
    "  pass"
   ]
  }
 ],
 "metadata": {
  "colab": {
   "collapsed_sections": [],
   "name": "chapter-1",
   "provenance": []
  },
  "kernelspec": {
   "display_name": "Python 3",
   "language": "python",
   "name": "python3"
  },
  "language_info": {
   "codemirror_mode": {
    "name": "ipython",
    "version": 3
   },
   "file_extension": ".py",
   "mimetype": "text/x-python",
   "name": "python",
   "nbconvert_exporter": "python",
   "pygments_lexer": "ipython3",
   "version": "3.9.6"
  }
 },
 "nbformat": 4,
 "nbformat_minor": 1
}

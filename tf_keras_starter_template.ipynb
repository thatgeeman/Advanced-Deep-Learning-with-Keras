{
  "nbformat": 4,
  "nbformat_minor": 0,
  "metadata": {
    "colab": {
      "name": "chapter-1",
      "provenance": [],
      "collapsed_sections": []
    },
    "kernelspec": {
      "name": "python3",
      "display_name": "Python 3"
    },
    "language_info": {
      "name": "python"
    }
  },
  "cells": [
    {
      "cell_type": "markdown",
      "metadata": {
        "id": "zGtCt8OsMtLf"
      },
      "source": [
        "Get the prerequisites done"
      ]
    },
    {
      "cell_type": "code",
      "metadata": {
        "colab": {
          "base_uri": "https://localhost:8080/"
        },
        "id": "7vAFSKy5VfbC",
        "outputId": "016b5b48-1ee1-45ff-b44a-a486475567e7"
      },
      "source": [
        "!pip freeze | grep \"tensorflow\\|keras\\|pydot\""
      ],
      "execution_count": 9,
      "outputs": [
        {
          "output_type": "stream",
          "text": [
            "keras-nightly==2.5.0.dev2021032900\n",
            "keras-vis==0.4.1\n",
            "pydot==1.3.0\n",
            "pydot-ng==2.0.0\n",
            "pydotplus==2.0.2\n",
            "tensorflow==2.5.0\n",
            "tensorflow-datasets==4.0.1\n",
            "tensorflow-estimator==2.5.0\n",
            "tensorflow-gcs-config==2.5.0\n",
            "tensorflow-hub==0.12.0\n",
            "tensorflow-metadata==1.0.0\n",
            "tensorflow-probability==0.12.1\n"
          ],
          "name": "stdout"
        }
      ]
    },
    {
      "cell_type": "code",
      "metadata": {
        "id": "cwL1KkN4MV1f",
        "colab": {
          "base_uri": "https://localhost:8080/"
        },
        "outputId": "256ac028-ef85-4232-a7fe-b1d803bf6374"
      },
      "source": [
        "import tensorflow as tf\n",
        "print(tf.__version__)"
      ],
      "execution_count": 10,
      "outputs": [
        {
          "output_type": "stream",
          "text": [
            "2.5.0\n"
          ],
          "name": "stdout"
        }
      ]
    },
    {
      "cell_type": "code",
      "metadata": {
        "colab": {
          "base_uri": "https://localhost:8080/"
        },
        "id": "j1vN-Cr6WQNJ",
        "outputId": "ab4703b0-2b53-47a2-97dc-016cbcc34d3b"
      },
      "source": [
        "from tensorflow.keras import backend as K\n",
        "print(K.epsilon())"
      ],
      "execution_count": 12,
      "outputs": [
        {
          "output_type": "stream",
          "text": [
            "1e-07\n"
          ],
          "name": "stdout"
        }
      ]
    },
    {
      "cell_type": "code",
      "metadata": {
        "id": "j2kXo3swMdpq",
        "colab": {
          "base_uri": "https://localhost:8080/"
        },
        "outputId": "cb7fb1db-ad1d-4829-ffa8-865186b9a020"
      },
      "source": [
        "import os\n",
        "gce=False\n",
        "if 'NO_GCE_CHECK' in os.environ:\n",
        "  gce = True\n",
        "if gce:\n",
        "  from google.colab import drive\n",
        "  drive.mount('/content/drive')\n",
        "  os.environ['KAGGLE_CONFIG_DIR'] = '/content/drive/MyDrive/Colab Notebooks'\n",
        "else:\n",
        "  pass"
      ],
      "execution_count": 14,
      "outputs": [
        {
          "output_type": "stream",
          "text": [
            "Mounted at /content/drive\n"
          ],
          "name": "stdout"
        }
      ]
    }
  ]
}